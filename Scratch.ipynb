{
 "cells": [
  {
   "cell_type": "markdown",
   "metadata": {},
   "source": [
    "Unit testing jworkflow/data.py"
   ]
  },
  {
   "cell_type": "markdown",
   "metadata": {},
   "source": [
    "Want to create a function that'll examine the output of `get_fremont_data()` and make sure it conforms to what it's expected to output."
   ]
  },
  {
   "cell_type": "code",
   "execution_count": 14,
   "metadata": {},
   "outputs": [],
   "source": [
    "from jworkflow.data import get_fremont_data\n",
    "import pandas as pd\n",
    "\n",
    "def test_fremont_data():\n",
    "    data = get_fremont_data()\n",
    "    # we know data.columns should be west east & total:\n",
    "    assert all(data.columns == ['West', 'East', 'Total'])\n",
    "    # also want date.index to be a DateTimeIndex instance\n",
    "    assert isinstance(data.index, pd.DatetimeIndex)"
   ]
  },
  {
   "cell_type": "markdown",
   "metadata": {},
   "source": [
    "Unit Test Frameworks allow you to run unit tests automatically"
   ]
  },
  {
   "cell_type": "code",
   "execution_count": null,
   "metadata": {},
   "outputs": [],
   "source": [
    "test_fremont_data()"
   ]
  },
  {
   "cell_type": "code",
   "execution_count": 28,
   "metadata": {},
   "outputs": [],
   "source": [
    "data = pd.read_csv('Fremont.csv', index_col='Date')\n",
    "try:\n",
    "    data.index = pd.to_datetime(data.index, format='%m/%d/%Y %H:%M:%S %p')\n",
    "except TypeError:\n",
    "    data.index = pd.to_datetime(data.index)"
   ]
  },
  {
   "cell_type": "code",
   "execution_count": 23,
   "metadata": {},
   "outputs": [
    {
     "data": {
      "text/plain": [
       "Index(['10/03/2012 12:00:00 AM', '10/03/2012 01:00:00 AM',\n",
       "       '10/03/2012 02:00:00 AM', '10/03/2012 03:00:00 AM',\n",
       "       '10/03/2012 04:00:00 AM', '10/03/2012 05:00:00 AM',\n",
       "       '10/03/2012 06:00:00 AM', '10/03/2012 07:00:00 AM',\n",
       "       '10/03/2012 08:00:00 AM', '10/03/2012 09:00:00 AM',\n",
       "       ...\n",
       "       '10/31/2017 02:00:00 PM', '10/31/2017 03:00:00 PM',\n",
       "       '10/31/2017 04:00:00 PM', '10/31/2017 05:00:00 PM',\n",
       "       '10/31/2017 06:00:00 PM', '10/31/2017 07:00:00 PM',\n",
       "       '10/31/2017 08:00:00 PM', '10/31/2017 09:00:00 PM',\n",
       "       '10/31/2017 10:00:00 PM', '10/31/2017 11:00:00 PM'],\n",
       "      dtype='object', name='Date', length=44520)"
      ]
     },
     "execution_count": 23,
     "metadata": {},
     "output_type": "execute_result"
    }
   ],
   "source": [
    "data.index"
   ]
  },
  {
   "cell_type": "code",
   "execution_count": null,
   "metadata": {},
   "outputs": [],
   "source": [
    "data.columns = ['West', 'East']\n",
    "data['Total'] = data['West'] + data['East']"
   ]
  }
 ],
 "metadata": {
  "kernelspec": {
   "display_name": "Python 3 (FastAI)",
   "language": "python",
   "name": "fastai"
  },
  "language_info": {
   "codemirror_mode": {
    "name": "ipython",
    "version": 3
   },
   "file_extension": ".py",
   "mimetype": "text/x-python",
   "name": "python",
   "nbconvert_exporter": "python",
   "pygments_lexer": "ipython3",
   "version": "3.6.3"
  }
 },
 "nbformat": 4,
 "nbformat_minor": 2
}
